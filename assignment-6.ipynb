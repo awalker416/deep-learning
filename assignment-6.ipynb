{
 "nbformat": 4,
 "nbformat_minor": 0,
 "metadata": {
  "colab": {
   "provenance": []
  },
  "kernelspec": {
   "name": "python3",
   "display_name": "Python 3"
  },
  "language_info": {
   "name": "python"
  }
 },
 "cells": [
  {
   "cell_type": "markdown",
   "source": [
    "# Copyright\n",
    "\n",
    "<PRE>\n",
    "Copyright (c) Bálint Gyires-Tóth - All Rights Reserved\n",
    "You may use and modify this code for research and development purpuses.\n",
    "Using this code for educational purposes (self-paced or instructor led) without the permission of the author is prohibited.\n",
    "</PRE>"
   ],
   "metadata": {
    "id": "CtuSrazlNYEL"
   }
  },
  {
   "cell_type": "markdown",
   "source": [
    "# Assignment: RNN text generation with your favorite book\n"
   ],
   "metadata": {
    "id": "vriXNd_nL2q6"
   }
  },
  {
   "metadata": {
    "ExecuteTime": {
     "end_time": "2025-04-23T21:41:19.218828Z",
     "start_time": "2025-04-23T21:41:19.214516Z"
    }
   },
   "cell_type": "code",
   "source": [
    "import numpy as np\n",
    "import re\n",
    "from collections import Counter\n",
    "import tensorflow as tf\n",
    "from tensorflow.keras.layers import Input, Embedding, LSTM, Dense\n",
    "from tensorflow.keras.models import Sequential\n",
    "from tensorflow.keras.callbacks import EarlyStopping\n",
    "import matplotlib.pyplot as plt\n",
    "\n",
    "print(\"Num GPUs Available:\", len(tf.config.list_physical_devices(\"GPU\")))"
   ],
   "outputs": [
    {
     "name": "stdout",
     "output_type": "stream",
     "text": [
      "Num GPUs Available: 1\n"
     ]
    }
   ],
   "execution_count": 69
  },
  {
   "metadata": {
    "id": "Q5atve1sMH9n"
   },
   "cell_type": "markdown",
   "source": [
    "## 1. Dataset\n",
    "- Download your favorite book from https://www.gutenberg.org/\n",
    "- Split into training (80%) and validation (20%)."
   ]
  },
  {
   "metadata": {
    "ExecuteTime": {
     "end_time": "2025-04-23T21:41:19.294562Z",
     "start_time": "2025-04-23T21:41:19.287068Z"
    }
   },
   "cell_type": "code",
   "source": [
    "link = \"https://www.gutenberg.org/\"\n",
    "\n",
    "\n",
    "with open(\"odyssey.txt\", \"r\", encoding=\"utf-8\") as f:\n",
    "    text = f.read()\n",
    "start = text.find(\"*** START OF THE PROJECT GUTENBERG EBOOK THE ODYSSEY ***\")\n",
    "end = text.find(\"*** END OF THE PROJECT GUTENBERG EBOOK THE ODYSSEY ***\")\n",
    "\n",
    "\"\"\"\n",
    "with open(\"christmas.txt\", \"r\", encoding=\"utf-8\") as f:\n",
    "    text = f.read()\n",
    "start = text.find(\"*** START OF THE PROJECT GUTENBERG EBOOK A CHRISTMAS CAROL ***\")\n",
    "end = text.find(\"*** END OF THE PROJECT GUTENBERG EBOOK A CHRISTMAS CAROL ***\")\n",
    "\n",
    "with open(\"amontillado.txt\", \"r\", encoding=\"utf-8\") as f:\n",
    "    text = f.read()\n",
    "start = text.find(\"*** START OF THE PROJECT GUTENBERG EBOOK THE CASK OF AMONTILLADO ***\")\n",
    "end = text.find(\"*** END OF THE PROJECT GUTENBERG EBOOK THE CASK OF AMONTILLADO ***\")\n",
    "\"\"\"\n",
    "\n",
    "text = text[start:end]\n",
    "split = int(len(text) * 0.8)\n",
    "\n",
    "train_text = text[:split]\n",
    "val_text = text[split:]\n",
    "\n",
    "print(len(train_text), len(val_text))\n",
    "print(train_text[:100])"
   ],
   "outputs": [
    {
     "name": "stdout",
     "output_type": "stream",
     "text": [
      "543112 135778\n",
      "*** START OF THE PROJECT GUTENBERG EBOOK THE ODYSSEY ***\n",
      "\n",
      "\n",
      "\n",
      "\n",
      "[Illustration]\n",
      "\n",
      "\n",
      "\n",
      "\n",
      "The Odyssey\n",
      "\n",
      "by Home\n"
     ]
    }
   ],
   "execution_count": 70
  },
  {
   "metadata": {
    "id": "4eQMcyPgMLJ9"
   },
   "cell_type": "markdown",
   "source": [
    "## 2. Preprocessing\n",
    "- Convert text to lowercase.\n",
    "- Remove punctuation (except basic sentence delimiters).\n",
    "- Tokenize by words or characters (your choice).\n",
    "- Build a vocabulary (map each unique word to an integer ID)."
   ]
  },
  {
   "metadata": {
    "ExecuteTime": {
     "end_time": "2025-04-23T21:41:19.362844Z",
     "start_time": "2025-04-23T21:41:19.320152Z"
    }
   },
   "cell_type": "code",
   "source": [
    "train_text = train_text.lower()\n",
    "val_text = val_text.lower()\n",
    "\n",
    "def clean_text(text):\n",
    "    text = re.sub(r\"\\s+\", \" \", text)\n",
    "    text = re.sub(r\"[^a-z0-9\\s\\.\\?\\!]\", \"\", text)\n",
    "    return text\n",
    "\n",
    "train_text = clean_text(train_text)\n",
    "val_text = clean_text(val_text)\n",
    "\n",
    "print(len(train_text), len(val_text))\n",
    "\n",
    "print(train_text[:100])\n",
    "\n",
    "# Tokenize by WORDS\n",
    "train_tokens = train_text.split()\n",
    "val_tokens = val_text.split()\n",
    "word_counts = Counter(train_tokens)\n",
    "\n",
    "vocab = {word: idx for idx, (word, _) in enumerate(word_counts.items())}\n",
    "vocab_size = len(vocab)\n",
    "id_to_word = {idx: word for word, idx in vocab.items()}\n",
    "id_size = len(id_to_word)"
   ],
   "outputs": [
    {
     "name": "stdout",
     "output_type": "stream",
     "text": [
      "530166 131171\n",
      " start of the project gutenberg ebook the odyssey  illustration the odyssey by homer rendered into e\n"
     ]
    }
   ],
   "execution_count": 71
  },
  {
   "cell_type": "markdown",
   "source": [
    "## 3. Embedding Layer in Keras\n",
    "Below is a minimal example of defining an `Embedding` layer:\n",
    "```python\n",
    "from tensorflow.keras.layers import Embedding\n",
    "\n",
    "embedding_layer = Embedding(\n",
    "    input_dim=vocab_size,     # size of the vocabulary\n",
    "    output_dim=128,           # embedding vector dimension\n",
    "    input_length=sequence_length\n",
    ")\n",
    "```\n",
    "- This layer transforms integer-encoded sequences (word IDs) into dense vector embeddings.\n",
    "\n",
    "- Feed these embeddings into your LSTM or GRU OR 1D CNN layer."
   ],
   "metadata": {
    "id": "jbTZs3OiMMNy"
   }
  },
  {
   "metadata": {
    "ExecuteTime": {
     "end_time": "2025-04-23T21:41:19.780651Z",
     "start_time": "2025-04-23T21:41:19.379358Z"
    }
   },
   "cell_type": "code",
   "source": [
    "train_ids = [vocab[word] for word in train_tokens if word in vocab]\n",
    "val_ids = [vocab[word] for word in val_tokens if word in vocab]\n",
    "\n",
    "sequence_length = 50\n",
    "\n",
    "def create_sequences(ids, sequence_length):\n",
    "    inputs = []\n",
    "    targets = []\n",
    "    for i in range(len(ids) - sequence_length):\n",
    "        inp = ids[i:i + sequence_length]\n",
    "        target = ids[i + sequence_length]\n",
    "        inputs.append(inp)\n",
    "        targets.append(target)\n",
    "    return np.array(inputs), np.array(targets)\n",
    "\n",
    "X_train, y_train = create_sequences(train_ids, sequence_length)\n",
    "X_val, y_val = create_sequences(val_ids, sequence_length)\n",
    "\n",
    "print(f\"X_train: {X_train.shape}\")\n",
    "print(f\"y_train: {y_train.shape}\")\n",
    "print(f\"X_val: {X_val.shape}\")\n",
    "print(f\"y_val: {y_val.shape}\")\n",
    "\n",
    "print(f\"Sample training sequence: {X_train[0]}\")\n",
    "print(f\"Sample training target: {y_train[0]}\")\n",
    "print(f\"Sample validation sequence: {X_val[0]}\")\n",
    "print(f\"Sample validation target: {y_val[0]}\")"
   ],
   "outputs": [
    {
     "name": "stdout",
     "output_type": "stream",
     "text": [
      "X_train: (104236, 50)\n",
      "y_train: (104236,)\n",
      "X_val: (22948, 50)\n",
      "y_val: (22948,)\n",
      "Sample training sequence: [ 0  1  2  3  4  5  2  6  7  2  6  8  9 10 11 12 13 14  2 15  1 16 17 18\n",
      " 19  2 20 21 22 23 24 25 22 23 26 25  2  6 27 28 27 29 27 30 27 31 27 32\n",
      " 27 33]\n",
      "Sample training target: 27\n",
      "Sample validation sequence: [  96  116 1625   17  242  521 6050 1358  472  140 1057   23 7183    2\n",
      " 7209 1060 2752 2271   67  906   74    2  275   91 1241   67 1249 1936\n",
      "    8  102   67 1049 3227  125   83  273  494  194   67  702 4109    1\n",
      "  111  112  182  105   74    2 1196 1040]\n",
      "Sample validation target: 494\n"
     ]
    }
   ],
   "execution_count": 72
  },
  {
   "metadata": {
    "ExecuteTime": {
     "end_time": "2025-04-23T21:41:19.795963Z",
     "start_time": "2025-04-23T21:41:19.793904Z"
    }
   },
   "cell_type": "code",
   "source": [
    "embedding_dim = 256\n",
    "\n",
    "embedding_layer = Embedding(input_dim=vocab_size, output_dim=embedding_dim)\n",
    "\n",
    "print(f\"Embedding Layer: input_dim={vocab_size}, output_dim={embedding_dim}\")"
   ],
   "outputs": [
    {
     "name": "stdout",
     "output_type": "stream",
     "text": [
      "Embedding Layer: input_dim=7992, output_dim=256\n"
     ]
    }
   ],
   "execution_count": 73
  },
  {
   "cell_type": "markdown",
   "source": [
    "## 4. Model\n",
    "- Implement an LSTM or GRU or 1D CNN-based language model with:\n",
    "  - **The Embedding layer** as input.\n",
    "  - At least **one recurrent layer** (e.g., `LSTM(256)` or `GRU(256)` or your custom 1D CNN).\n",
    "  - A **Dense** output layer with **softmax** activation for word prediction.\n",
    "- Train for about **5–10 epochs** so it can finish in approximately **2 hours** on a standard machine.\n"
   ],
   "metadata": {
    "id": "qsXR4RZpMXMi"
   }
  },
  {
   "metadata": {
    "ExecuteTime": {
     "end_time": "2025-04-23T21:41:19.862935Z",
     "start_time": "2025-04-23T21:41:19.812147Z"
    }
   },
   "cell_type": "code",
   "source": [
    "model = Sequential()\n",
    "model.add(Input(shape=(sequence_length,)))\n",
    "model.add(embedding_layer)\n",
    "model.add(LSTM(units=256))\n",
    "model.add(Dense(units=vocab_size, activation=\"softmax\"))\n",
    "\n",
    "model.compile(loss=\"sparse_categorical_crossentropy\", optimizer=\"adam\", metrics=[\"accuracy\"])\n",
    "\n",
    "model.summary()"
   ],
   "outputs": [
    {
     "data": {
      "text/plain": [
       "\u001B[1mModel: \"sequential_7\"\u001B[0m\n"
      ],
      "text/html": [
       "<pre style=\"white-space:pre;overflow-x:auto;line-height:normal;font-family:Menlo,'DejaVu Sans Mono',consolas,'Courier New',monospace\"><span style=\"font-weight: bold\">Model: \"sequential_7\"</span>\n",
       "</pre>\n"
      ]
     },
     "metadata": {},
     "output_type": "display_data"
    },
    {
     "data": {
      "text/plain": [
       "┏━━━━━━━━━━━━━━━━━━━━━━━━━━━━━━━━━┳━━━━━━━━━━━━━━━━━━━━━━━━┳━━━━━━━━━━━━━━━┓\n",
       "┃\u001B[1m \u001B[0m\u001B[1mLayer (type)                   \u001B[0m\u001B[1m \u001B[0m┃\u001B[1m \u001B[0m\u001B[1mOutput Shape          \u001B[0m\u001B[1m \u001B[0m┃\u001B[1m \u001B[0m\u001B[1m      Param #\u001B[0m\u001B[1m \u001B[0m┃\n",
       "┡━━━━━━━━━━━━━━━━━━━━━━━━━━━━━━━━━╇━━━━━━━━━━━━━━━━━━━━━━━━╇━━━━━━━━━━━━━━━┩\n",
       "│ embedding_7 (\u001B[38;5;33mEmbedding\u001B[0m)         │ (\u001B[38;5;45mNone\u001B[0m, \u001B[38;5;34m50\u001B[0m, \u001B[38;5;34m256\u001B[0m)        │     \u001B[38;5;34m2,045,952\u001B[0m │\n",
       "├─────────────────────────────────┼────────────────────────┼───────────────┤\n",
       "│ lstm_7 (\u001B[38;5;33mLSTM\u001B[0m)                   │ (\u001B[38;5;45mNone\u001B[0m, \u001B[38;5;34m256\u001B[0m)            │       \u001B[38;5;34m525,312\u001B[0m │\n",
       "├─────────────────────────────────┼────────────────────────┼───────────────┤\n",
       "│ dense_7 (\u001B[38;5;33mDense\u001B[0m)                 │ (\u001B[38;5;45mNone\u001B[0m, \u001B[38;5;34m7992\u001B[0m)           │     \u001B[38;5;34m2,053,944\u001B[0m │\n",
       "└─────────────────────────────────┴────────────────────────┴───────────────┘\n"
      ],
      "text/html": [
       "<pre style=\"white-space:pre;overflow-x:auto;line-height:normal;font-family:Menlo,'DejaVu Sans Mono',consolas,'Courier New',monospace\">┏━━━━━━━━━━━━━━━━━━━━━━━━━━━━━━━━━┳━━━━━━━━━━━━━━━━━━━━━━━━┳━━━━━━━━━━━━━━━┓\n",
       "┃<span style=\"font-weight: bold\"> Layer (type)                    </span>┃<span style=\"font-weight: bold\"> Output Shape           </span>┃<span style=\"font-weight: bold\">       Param # </span>┃\n",
       "┡━━━━━━━━━━━━━━━━━━━━━━━━━━━━━━━━━╇━━━━━━━━━━━━━━━━━━━━━━━━╇━━━━━━━━━━━━━━━┩\n",
       "│ embedding_7 (<span style=\"color: #0087ff; text-decoration-color: #0087ff\">Embedding</span>)         │ (<span style=\"color: #00d7ff; text-decoration-color: #00d7ff\">None</span>, <span style=\"color: #00af00; text-decoration-color: #00af00\">50</span>, <span style=\"color: #00af00; text-decoration-color: #00af00\">256</span>)        │     <span style=\"color: #00af00; text-decoration-color: #00af00\">2,045,952</span> │\n",
       "├─────────────────────────────────┼────────────────────────┼───────────────┤\n",
       "│ lstm_7 (<span style=\"color: #0087ff; text-decoration-color: #0087ff\">LSTM</span>)                   │ (<span style=\"color: #00d7ff; text-decoration-color: #00d7ff\">None</span>, <span style=\"color: #00af00; text-decoration-color: #00af00\">256</span>)            │       <span style=\"color: #00af00; text-decoration-color: #00af00\">525,312</span> │\n",
       "├─────────────────────────────────┼────────────────────────┼───────────────┤\n",
       "│ dense_7 (<span style=\"color: #0087ff; text-decoration-color: #0087ff\">Dense</span>)                 │ (<span style=\"color: #00d7ff; text-decoration-color: #00d7ff\">None</span>, <span style=\"color: #00af00; text-decoration-color: #00af00\">7992</span>)           │     <span style=\"color: #00af00; text-decoration-color: #00af00\">2,053,944</span> │\n",
       "└─────────────────────────────────┴────────────────────────┴───────────────┘\n",
       "</pre>\n"
      ]
     },
     "metadata": {},
     "output_type": "display_data"
    },
    {
     "data": {
      "text/plain": [
       "\u001B[1m Total params: \u001B[0m\u001B[38;5;34m4,625,208\u001B[0m (17.64 MB)\n"
      ],
      "text/html": [
       "<pre style=\"white-space:pre;overflow-x:auto;line-height:normal;font-family:Menlo,'DejaVu Sans Mono',consolas,'Courier New',monospace\"><span style=\"font-weight: bold\"> Total params: </span><span style=\"color: #00af00; text-decoration-color: #00af00\">4,625,208</span> (17.64 MB)\n",
       "</pre>\n"
      ]
     },
     "metadata": {},
     "output_type": "display_data"
    },
    {
     "data": {
      "text/plain": [
       "\u001B[1m Trainable params: \u001B[0m\u001B[38;5;34m4,625,208\u001B[0m (17.64 MB)\n"
      ],
      "text/html": [
       "<pre style=\"white-space:pre;overflow-x:auto;line-height:normal;font-family:Menlo,'DejaVu Sans Mono',consolas,'Courier New',monospace\"><span style=\"font-weight: bold\"> Trainable params: </span><span style=\"color: #00af00; text-decoration-color: #00af00\">4,625,208</span> (17.64 MB)\n",
       "</pre>\n"
      ]
     },
     "metadata": {},
     "output_type": "display_data"
    },
    {
     "data": {
      "text/plain": [
       "\u001B[1m Non-trainable params: \u001B[0m\u001B[38;5;34m0\u001B[0m (0.00 B)\n"
      ],
      "text/html": [
       "<pre style=\"white-space:pre;overflow-x:auto;line-height:normal;font-family:Menlo,'DejaVu Sans Mono',consolas,'Courier New',monospace\"><span style=\"font-weight: bold\"> Non-trainable params: </span><span style=\"color: #00af00; text-decoration-color: #00af00\">0</span> (0.00 B)\n",
       "</pre>\n"
      ]
     },
     "metadata": {},
     "output_type": "display_data"
    }
   ],
   "execution_count": 74
  },
  {
   "cell_type": "markdown",
   "source": [
    "## 5. Training & Evaluation\n",
    "- **Monitor** the loss on both training and validation sets.\n",
    "- **Perplexity**: a common metric for language models.\n",
    "  - It is the exponent of the average negative log-likelihood.\n",
    "  - If your model outputs cross-entropy loss `H`, then `perplexity = e^H`.\n",
    "  - Try to keep the validation perplexity **under 50** if possible. If you have higher value (which is possible) try to draw conclusions, why doesn't it decrease to a lower value."
   ],
   "metadata": {
    "id": "Ggop4h4IMhMT"
   }
  },
  {
   "metadata": {
    "ExecuteTime": {
     "end_time": "2025-04-23T21:49:33.953214Z",
     "start_time": "2025-04-23T21:41:19.878815Z"
    }
   },
   "cell_type": "code",
   "source": [
    "# early_stopping = EarlyStopping(monitor=\"val_loss\", patience=3, restore_best_weights=True)\n",
    "\n",
    "history = model.fit(\n",
    "    X_train, y_train,\n",
    "    validation_data=(X_val, y_val),\n",
    "    epochs=10,\n",
    "    batch_size=64,\n",
    "    # callbacks=[early_stopping],\n",
    "    verbose=1\n",
    ")\n",
    "\n",
    "# Accuracy\n",
    "plt.subplot(1, 2, 1)\n",
    "plt.plot(history.history[\"accuracy\"], label=\"Train Accuracy\")\n",
    "plt.plot(history.history[\"val_accuracy\"], label=\"Validation Accuracy\")\n",
    "plt.title(\"Model Accuracy\")\n",
    "plt.xlabel(\"Epoch\")\n",
    "plt.ylabel(\"Accuracy\")\n",
    "plt.legend()\n",
    "\n",
    "# Loss\n",
    "plt.subplot(1, 2, 2)\n",
    "plt.plot(history.history[\"loss\"], label=\"Train Loss\")\n",
    "plt.plot(history.history[\"val_loss\"], label=\"Validation Loss\")\n",
    "plt.title(\"Model Loss\")\n",
    "plt.xlabel(\"Epoch\")\n",
    "plt.ylabel(\"Loss\")\n",
    "plt.legend()\n",
    "\n",
    "plt.tight_layout()\n",
    "plt.show()"
   ],
   "outputs": [
    {
     "name": "stdout",
     "output_type": "stream",
     "text": [
      "Epoch 1/10\n",
      "\u001B[1m1629/1629\u001B[0m \u001B[32m━━━━━━━━━━━━━━━━━━━━\u001B[0m\u001B[37m\u001B[0m \u001B[1m46s\u001B[0m 28ms/step - accuracy: 0.0640 - loss: 6.5493 - val_accuracy: 0.1215 - val_loss: 5.6654\n",
      "Epoch 2/10\n",
      "\u001B[1m1629/1629\u001B[0m \u001B[32m━━━━━━━━━━━━━━━━━━━━\u001B[0m\u001B[37m\u001B[0m \u001B[1m45s\u001B[0m 28ms/step - accuracy: 0.1279 - loss: 5.4414 - val_accuracy: 0.1437 - val_loss: 5.4104\n",
      "Epoch 3/10\n",
      "\u001B[1m1629/1629\u001B[0m \u001B[32m━━━━━━━━━━━━━━━━━━━━\u001B[0m\u001B[37m\u001B[0m \u001B[1m46s\u001B[0m 28ms/step - accuracy: 0.1587 - loss: 4.8807 - val_accuracy: 0.1515 - val_loss: 5.3544\n",
      "Epoch 4/10\n",
      "\u001B[1m1629/1629\u001B[0m \u001B[32m━━━━━━━━━━━━━━━━━━━━\u001B[0m\u001B[37m\u001B[0m \u001B[1m46s\u001B[0m 28ms/step - accuracy: 0.1919 - loss: 4.4025 - val_accuracy: 0.1540 - val_loss: 5.3921\n",
      "Epoch 5/10\n",
      "\u001B[1m1629/1629\u001B[0m \u001B[32m━━━━━━━━━━━━━━━━━━━━\u001B[0m\u001B[37m\u001B[0m \u001B[1m49s\u001B[0m 30ms/step - accuracy: 0.2272 - loss: 3.9751 - val_accuracy: 0.1530 - val_loss: 5.4945\n",
      "Epoch 6/10\n",
      "\u001B[1m1629/1629\u001B[0m \u001B[32m━━━━━━━━━━━━━━━━━━━━\u001B[0m\u001B[37m\u001B[0m \u001B[1m55s\u001B[0m 34ms/step - accuracy: 0.2733 - loss: 3.5671 - val_accuracy: 0.1558 - val_loss: 5.6284\n",
      "Epoch 7/10\n",
      "\u001B[1m1629/1629\u001B[0m \u001B[32m━━━━━━━━━━━━━━━━━━━━\u001B[0m\u001B[37m\u001B[0m \u001B[1m57s\u001B[0m 35ms/step - accuracy: 0.3271 - loss: 3.1895 - val_accuracy: 0.1535 - val_loss: 5.7827\n",
      "Epoch 8/10\n",
      "\u001B[1m1629/1629\u001B[0m \u001B[32m━━━━━━━━━━━━━━━━━━━━\u001B[0m\u001B[37m\u001B[0m \u001B[1m50s\u001B[0m 31ms/step - accuracy: 0.3852 - loss: 2.8396 - val_accuracy: 0.1521 - val_loss: 5.9622\n",
      "Epoch 9/10\n",
      "\u001B[1m1629/1629\u001B[0m \u001B[32m━━━━━━━━━━━━━━━━━━━━\u001B[0m\u001B[37m\u001B[0m \u001B[1m50s\u001B[0m 31ms/step - accuracy: 0.4458 - loss: 2.5125 - val_accuracy: 0.1483 - val_loss: 6.1453\n",
      "Epoch 10/10\n",
      "\u001B[1m1629/1629\u001B[0m \u001B[32m━━━━━━━━━━━━━━━━━━━━\u001B[0m\u001B[37m\u001B[0m \u001B[1m50s\u001B[0m 31ms/step - accuracy: 0.4990 - loss: 2.2527 - val_accuracy: 0.1486 - val_loss: 6.3371\n"
     ]
    },
    {
     "data": {
      "text/plain": [
       "<Figure size 640x480 with 2 Axes>"
      ],
      "image/png": "[encoded data removed]"
     },
     "metadata": {},
     "output_type": "display_data"
    }
   ],
   "execution_count": 75
  },
  {
   "metadata": {
    "ExecuteTime": {
     "end_time": "2025-04-23T21:51:01.723432Z",
     "start_time": "2025-04-23T21:51:01.720977Z"
    }
   },
   "cell_type": "code",
   "source": [
    "val_loss = history.history['val_loss'][-1]\n",
    "perplexity = np.exp(val_loss)\n",
    "\n",
    "print(f\"Validation Perplexity: {perplexity:.2f}\")\n",
    "# print(f\"Training epochs before Early Stopping: {len(history.history['loss'])}\")"
   ],
   "outputs": [
    {
     "name": "stdout",
     "output_type": "stream",
     "text": [
      "Validation Perplexity: 565.17\n"
     ]
    }
   ],
   "execution_count": 76
  },
  {
   "cell_type": "markdown",
   "source": [
    "## 6. Generation Criteria\n",
    "- After training, generate **two distinct text samples**, each at least **50 tokens**.\n",
    "- Use **different seed phrases** (e.g., “love is” vs. “time will”)."
   ],
   "metadata": {
    "id": "cbvbBOp3MfTD"
   }
  },
  {
   "metadata": {
    "ExecuteTime": {
     "end_time": "2025-04-23T21:51:04.306747Z",
     "start_time": "2025-04-23T21:51:01.762148Z"
    }
   },
   "cell_type": "code",
   "source": [
    "def generate_text(model, id_to_word, seed_text, sequence_length, num_tokens=50):\n",
    "    input_sequence = [vocab.get(word, 0) for word in seed_text.split()]\n",
    "    input_sequence = np.pad(input_sequence, (sequence_length - len(input_sequence), 0), mode=\"constant\")\n",
    "    generated_text = seed_text\n",
    "\n",
    "    for _ in range(num_tokens):\n",
    "        input_sequence_reshaped = np.reshape(input_sequence, (1, sequence_length))\n",
    "        predicted_probs = model.predict(input_sequence_reshaped, verbose=0)\n",
    "        predicted_token_id = np.argmax(predicted_probs)\n",
    "        predicted_word = id_to_word.get(predicted_token_id, \"\")\n",
    "        generated_text += \" \" + predicted_word\n",
    "        input_sequence = np.append(input_sequence[1:], predicted_token_id)\n",
    "    return generated_text\n",
    "\n",
    "seed_phrase_1 = \"she will not\"\n",
    "seed_phrase_2 = \"the hero is\"\n",
    "num_tokens = 50\n",
    "\n",
    "generated_text_1 = generate_text(model, id_to_word, seed_phrase_1, sequence_length=50, num_tokens=num_tokens)\n",
    "generated_text_2 = generate_text(model, id_to_word, seed_phrase_2, sequence_length=50, num_tokens=num_tokens)\n",
    "\n",
    "print(\"Generated Text 1:\", generated_text_1)\n",
    "print()\n",
    "print(\"Generated Text 2:\", generated_text_2)"
   ],
   "outputs": [
    {
     "name": "stdout",
     "output_type": "stream",
     "text": [
      "Generated Text 1: she will not like you but i am not jealous. there is no one living who is absolutely again for i am exceedingly fond. i am not surprised the story of the gods for i want to know who are you talking about? that you are afraid of your father and mother both\n",
      "\n",
      "Generated Text 2: the hero is going rags to the house of the bow. then he went to the house of the cloister where the suitors were camping in the house of the cloister and said to the suitors hear what we have come to the house of hades and king alcinous who was still furious\n"
     ]
    }
   ],
   "execution_count": 77
  },
  {
   "metadata": {},
   "cell_type": "markdown",
   "source": "The perplexity is quite high for this model. This is likely due to the 4.6M trainable parameters of the model and the execution of a very simplistic training model for this data. Perhaps switching to tokenizing by character would result in a lower perplexity."
  }
 ]
}
